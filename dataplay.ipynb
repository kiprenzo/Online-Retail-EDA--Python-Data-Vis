{
 "cells": [
  {
   "cell_type": "code",
   "execution_count": 10,
   "metadata": {},
   "outputs": [
    {
     "name": "stdout",
     "output_type": "stream",
     "text": [
      "<class 'pandas.core.frame.DataFrame'>\n",
      "RangeIndex: 12330 entries, 0 to 12329\n",
      "Data columns (total 17 columns):\n",
      " #   Column                    Non-Null Count  Dtype  \n",
      "---  ------                    --------------  -----  \n",
      " 0   administrative            11760 non-null  float64\n",
      " 1   administrative_duration   11418 non-null  float64\n",
      " 2   informational             12330 non-null  int64  \n",
      " 3   informational_duration    11994 non-null  float64\n",
      " 4   product_related           11751 non-null  float64\n",
      " 5   product_related_duration  12129 non-null  float64\n",
      " 6   bounce_rates              12330 non-null  float64\n",
      " 7   exit_rates                12330 non-null  float64\n",
      " 8   page_values               12330 non-null  float64\n",
      " 9   month                     12330 non-null  object \n",
      " 10  operating_systems         12319 non-null  object \n",
      " 11  browser                   12330 non-null  object \n",
      " 12  region                    12330 non-null  object \n",
      " 13  traffic_type              12330 non-null  object \n",
      " 14  visitor_type              12330 non-null  object \n",
      " 15  weekend                   12330 non-null  bool   \n",
      " 16  revenue                   12330 non-null  bool   \n",
      "dtypes: bool(2), float64(8), int64(1), object(6)\n",
      "memory usage: 1.4+ MB\n"
     ]
    }
   ],
   "source": [
    "import pandas as pd\n",
    "\n",
    "df = pd.read_csv('cust_act1.csv')\n",
    "\n",
    "df.info()"
   ]
  },
  {
   "cell_type": "code",
   "execution_count": null,
   "metadata": {},
   "outputs": [],
   "source": [
    "import plotly.express as px\n",
    "\n",
    "fig = px.histogram(df, \"browser\", \n",
    "                   facet_col=\"region\", \n",
    "                   color=\"region\",\n",
    "                   title=\"Counts of browser per region\",\n",
    "                   labels={\"browser\": \"browser\"},\n",
    "                   height=1000, \n",
    "                   facet_col_wrap=2, \n",
    "                   facet_col_spacing=0.1,\n",
    "                   )\n",
    "fig.update_layout(showlegend=False, xaxis={'categoryorder':'total descending'})\n",
    "fig.update_yaxes(matches=None, showticklabels=True)\n",
    "# fig.update_xaxes(showticklabels=True)\n",
    "fig.show()"
   ]
  },
  {
   "cell_type": "code",
   "execution_count": 21,
   "metadata": {},
   "outputs": [
    {
     "name": "stdout",
     "output_type": "stream",
     "text": [
      "4.7% of values in the <product_related> column are null.\n"
     ]
    }
   ],
   "source": [
    "import numpy as np\n",
    "\n",
    "def percentnull(df_column):\n",
    "    print(f\"{np.round(100 * df_column.isna().sum()/len(df_column), 2)}% of values in the <{df_column.name}> column are null.\")\n",
    "\n",
    "percentnull(df[\"product_related\"])"
   ]
  }
 ],
 "metadata": {
  "kernelspec": {
   "display_name": "Python 3",
   "language": "python",
   "name": "python3"
  },
  "language_info": {
   "codemirror_mode": {
    "name": "ipython",
    "version": 3
   },
   "file_extension": ".py",
   "mimetype": "text/x-python",
   "name": "python",
   "nbconvert_exporter": "python",
   "pygments_lexer": "ipython3",
   "version": "3.12.7"
  }
 },
 "nbformat": 4,
 "nbformat_minor": 2
}
