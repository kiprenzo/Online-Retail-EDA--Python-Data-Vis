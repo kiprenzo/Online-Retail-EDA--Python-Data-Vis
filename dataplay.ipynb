{
 "cells": [
  {
   "cell_type": "code",
   "execution_count": 30,
   "metadata": {},
   "outputs": [
    {
     "data": {
      "text/plain": [
       "13"
      ]
     },
     "execution_count": 30,
     "metadata": {},
     "output_type": "execute_result"
    }
   ],
   "source": [
    "import pandas as pd\n",
    "\n",
    "df = pd.read_csv('cust_act1.csv')\n",
    "\n",
    "len(set(df[\"browser\"]))"
   ]
  },
  {
   "cell_type": "code",
   "execution_count": null,
   "metadata": {},
   "outputs": [],
   "source": [
    "import plotly.express as px\n",
    "\n",
    "fig = px.histogram(df, \"browser\", \n",
    "                   facet_col=\"region\", \n",
    "                   color=\"region\",\n",
    "                   title=\"Counts of browser per region\",\n",
    "                   labels={\"browser\": \"browser\"},\n",
    "                   height=1000, \n",
    "                   facet_col_wrap=2, \n",
    "                   facet_col_spacing=0.1,\n",
    "                   )\n",
    "fig.update_layout(showlegend=False, xaxis={'categoryorder':'total descending'})\n",
    "fig.update_yaxes(matches=None, showticklabels=True)\n",
    "# fig.update_xaxes(showticklabels=True)\n",
    "fig.show()"
   ]
  },
  {
   "cell_type": "code",
   "execution_count": null,
   "metadata": {},
   "outputs": [
    {
     "name": "stdout",
     "output_type": "stream",
     "text": [
      "4.7% of values in the <product_related> column are null.\n"
     ]
    }
   ],
   "source": [
    "import numpy as np\n",
    "\n",
    "def percentnull(df_column):\n",
    "    print(f\"{np.round(100 * df_column.isna().sum()/len(df_column), 2)}% of values in the <{df_column.name}> column are null.\")\n",
    "\n",
    "percentnull(df[\"product_related\"])"
   ]
  },
  {
   "cell_type": "markdown",
   "metadata": {},
   "source": [
    "# Chart Boilerplate Collection\n",
    "\n",
    "#### 1. Transparent Circle Scatter Plot"
   ]
  },
  {
   "cell_type": "code",
   "execution_count": null,
   "metadata": {},
   "outputs": [],
   "source": [
    "# This is copied straight from another db analysis.\n",
    "# TODO all variables and categories must be replaced with relevant ones.\n",
    "\n",
    "category_array = [\"I have never written code\", \"< 1 years\", \"1-2 years\", \"3-5 years\", \"5-10 years\", \"10-20 years\", \"20+ years\"]\n",
    "# fig = px.scatter(programming_experience_salary_df, \"Programming Experience\", \"Salary\", title=\"Density of Programming Experience vs Salary\")\n",
    "fig = px.scatter(programming_experience_salary_df, \"Programming Experience\", \"Salary\", facet_col=df[\"Q2\"],title=\"Density of Programming Experience vs Salary\")\n",
    "fig.update_traces(marker=dict(\n",
    "            opacity=0.05,\n",
    "            size=20,\n",
    "            line=dict(\n",
    "                color='MediumPurple',\n",
    "                width=0.5\n",
    "            )))\n",
    "fig.update_layout(xaxis={'categoryorder':'array', 'categoryarray':category_array})\n",
    "fig.show()"
   ]
  }
 ],
 "metadata": {
  "kernelspec": {
   "display_name": "Python 3",
   "language": "python",
   "name": "python3"
  },
  "language_info": {
   "codemirror_mode": {
    "name": "ipython",
    "version": 3
   },
   "file_extension": ".py",
   "mimetype": "text/x-python",
   "name": "python",
   "nbconvert_exporter": "python",
   "pygments_lexer": "ipython3",
   "version": "3.12.7"
  }
 },
 "nbformat": 4,
 "nbformat_minor": 2
}
