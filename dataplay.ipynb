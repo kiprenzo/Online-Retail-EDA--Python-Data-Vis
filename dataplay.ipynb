{
 "cells": [
  {
   "cell_type": "markdown",
   "metadata": {},
   "source": [
    "# Import local .csv"
   ]
  },
  {
   "cell_type": "code",
   "execution_count": 1,
   "metadata": {},
   "outputs": [
    {
     "data": {
      "text/plain": [
       "administrative              1.930426\n",
       "administrative_duration     4.666608\n",
       "informational               3.201809\n",
       "informational_duration      7.202650\n",
       "product_related             3.321367\n",
       "product_related_duration    3.643645\n",
       "bounce_rates                2.949097\n",
       "exit_rates                  2.194420\n",
       "page_values                 6.023549\n",
       "weekend                     1.450999\n",
       "revenue                     1.908652\n",
       "dtype: float64"
      ]
     },
     "execution_count": 1,
     "metadata": {},
     "output_type": "execute_result"
    }
   ],
   "source": [
    "import pandas as pd\n",
    "\n",
    "%reload_ext autoreload\n",
    "%autoreload 2\n",
    "\n",
    "df = pd.read_csv('cust_act1.csv')\n",
    "\n",
    "df.skew(numeric_only=True)"
   ]
  },
  {
   "cell_type": "markdown",
   "metadata": {},
   "source": [
    "# Perform column dtype transform"
   ]
  },
  {
   "cell_type": "code",
   "execution_count": 2,
   "metadata": {},
   "outputs": [
    {
     "name": "stdout",
     "output_type": "stream",
     "text": [
      "<class 'pandas.core.frame.DataFrame'>\n",
      "RangeIndex: 12330 entries, 0 to 12329\n",
      "Data columns (total 17 columns):\n",
      " #   Column                    Non-Null Count  Dtype  \n",
      "---  ------                    --------------  -----  \n",
      " 0   administrative            11760 non-null  float64\n",
      " 1   administrative_duration   11418 non-null  float64\n",
      " 2   informational             12330 non-null  int64  \n",
      " 3   informational_duration    11994 non-null  float64\n",
      " 4   product_related           11751 non-null  float64\n",
      " 5   product_related_duration  12129 non-null  float64\n",
      " 6   bounce_rates              12330 non-null  float64\n",
      " 7   exit_rates                12330 non-null  float64\n",
      " 8   page_values               12330 non-null  float64\n",
      " 9   month                     12330 non-null  object \n",
      " 10  operating_systems         12319 non-null  object \n",
      " 11  browser                   12330 non-null  object \n",
      " 12  region                    12330 non-null  object \n",
      " 13  traffic_type              12330 non-null  object \n",
      " 14  visitor_type              12330 non-null  object \n",
      " 15  weekend                   12330 non-null  bool   \n",
      " 16  revenue                   12330 non-null  bool   \n",
      "dtypes: bool(2), float64(8), int64(1), object(6)\n",
      "memory usage: 1.4+ MB\n"
     ]
    },
    {
     "data": {
      "text/plain": [
       "None"
      ]
     },
     "metadata": {},
     "output_type": "display_data"
    },
    {
     "name": "stdout",
     "output_type": "stream",
     "text": [
      "Here's the no. of null values in each column:\n",
      " administrative              570\n",
      "administrative_duration     912\n",
      "informational                 0\n",
      "informational_duration      336\n",
      "product_related             579\n",
      "product_related_duration    201\n",
      "bounce_rates                  0\n",
      "exit_rates                    0\n",
      "page_values                   0\n",
      "month                         0\n",
      "operating_systems            11\n",
      "browser                       0\n",
      "region                        0\n",
      "traffic_type                  0\n",
      "visitor_type                  0\n",
      "weekend                       0\n",
      "revenue                       0\n",
      "dtype: int64\n",
      "Successfully changed 'visitor_type' to category\n",
      "Successfully changed 'traffic_type' to category\n",
      "Successfully changed 'region' to category\n",
      "Successfully changed 'browser' to category\n",
      "Successfully changed 'operating_systems' to category\n",
      "Successfully changed 'administrative' to Int32\n",
      "Successfully changed 'informational' to Int32\n",
      "Successfully changed 'product_related' to Int32\n",
      "<class 'pandas.core.frame.DataFrame'>\n",
      "RangeIndex: 12330 entries, 0 to 12329\n",
      "Data columns (total 17 columns):\n",
      " #   Column                    Non-Null Count  Dtype   \n",
      "---  ------                    --------------  -----   \n",
      " 0   administrative            11760 non-null  Int32   \n",
      " 1   administrative_duration   11418 non-null  float64 \n",
      " 2   informational             12330 non-null  Int32   \n",
      " 3   informational_duration    11994 non-null  float64 \n",
      " 4   product_related           11751 non-null  Int32   \n",
      " 5   product_related_duration  12129 non-null  float64 \n",
      " 6   bounce_rates              12330 non-null  float64 \n",
      " 7   exit_rates                12330 non-null  float64 \n",
      " 8   page_values               12330 non-null  float64 \n",
      " 9   month                     12330 non-null  category\n",
      " 10  operating_systems         12319 non-null  category\n",
      " 11  browser                   12330 non-null  category\n",
      " 12  region                    12330 non-null  category\n",
      " 13  traffic_type              12330 non-null  category\n",
      " 14  visitor_type              12330 non-null  category\n",
      " 15  weekend                   12330 non-null  bool    \n",
      " 16  revenue                   12330 non-null  bool    \n",
      "dtypes: Int32(3), bool(2), category(6), float64(6)\n",
      "memory usage: 857.6 KB\n"
     ]
    }
   ],
   "source": [
    "from db_utils import DataTransform\n",
    "from db_utils import DataFrameInfo as dfinfo\n",
    "\n",
    "display(df.info())\n",
    "print(\"Here's the no. of null values in each column:\\n\", df.isna().sum())\n",
    "dtype_change = {\n",
    "    \"visitor_type\": \"category\",\n",
    "    \"traffic_type\": \"category\",\n",
    "    \"region\": \"category\",\n",
    "    \"browser\": \"category\",\n",
    "    \"operating_systems\": \"category\",\n",
    "    # \"months\": \"category\" -- Special case\n",
    "    \"administrative\": \"Int32\",\n",
    "    \"informational\": \"Int32\",\n",
    "    \"product_related\": \"Int32\"\n",
    "}\n",
    "\n",
    "\"\"\" dfinfo(df, 'operating_systems').unique()\n",
    "print(\"\\n\", df['operating_systems'].value_counts())\n",
    "print(df['operating_systems'].isna().sum()) \"\"\"\n",
    "\n",
    "# Perform special transform case for months to be an ordered category\n",
    "months_ordered = ['Jan', 'Feb', 'Mar', 'Apr', 'May', 'June', 'Jul', 'Aug', 'Sep', 'Oct', 'Nov', 'Dec']\n",
    "df['month'] = pd.Categorical(df['month'], categories=months_ordered, ordered=True)\n",
    "# Perform the transform from dict\n",
    "df = DataTransform(df).changetype(dtype_change)\n",
    "\n",
    "df.info()"
   ]
  },
  {
   "cell_type": "markdown",
   "metadata": {},
   "source": [
    "# Display No. and % of Null values"
   ]
  },
  {
   "cell_type": "code",
   "execution_count": 4,
   "metadata": {},
   "outputs": [
    {
     "data": {
      "text/html": [
       "<div>\n",
       "<style scoped>\n",
       "    .dataframe tbody tr th:only-of-type {\n",
       "        vertical-align: middle;\n",
       "    }\n",
       "\n",
       "    .dataframe tbody tr th {\n",
       "        vertical-align: top;\n",
       "    }\n",
       "\n",
       "    .dataframe thead th {\n",
       "        text-align: right;\n",
       "    }\n",
       "</style>\n",
       "<table border=\"1\" class=\"dataframe\">\n",
       "  <thead>\n",
       "    <tr style=\"text-align: right;\">\n",
       "      <th></th>\n",
       "      <th>ColumnName</th>\n",
       "      <th>CountNull</th>\n",
       "      <th>PercentageNull</th>\n",
       "    </tr>\n",
       "  </thead>\n",
       "  <tbody>\n",
       "    <tr>\n",
       "      <th>0</th>\n",
       "      <td>administrative</td>\n",
       "      <td>570</td>\n",
       "      <td>4.62</td>\n",
       "    </tr>\n",
       "    <tr>\n",
       "      <th>1</th>\n",
       "      <td>administrative_duration</td>\n",
       "      <td>912</td>\n",
       "      <td>7.40</td>\n",
       "    </tr>\n",
       "    <tr>\n",
       "      <th>2</th>\n",
       "      <td>informational</td>\n",
       "      <td>0</td>\n",
       "      <td>0.00</td>\n",
       "    </tr>\n",
       "    <tr>\n",
       "      <th>3</th>\n",
       "      <td>informational_duration</td>\n",
       "      <td>336</td>\n",
       "      <td>2.73</td>\n",
       "    </tr>\n",
       "    <tr>\n",
       "      <th>4</th>\n",
       "      <td>product_related</td>\n",
       "      <td>579</td>\n",
       "      <td>4.70</td>\n",
       "    </tr>\n",
       "    <tr>\n",
       "      <th>5</th>\n",
       "      <td>product_related_duration</td>\n",
       "      <td>201</td>\n",
       "      <td>1.63</td>\n",
       "    </tr>\n",
       "    <tr>\n",
       "      <th>6</th>\n",
       "      <td>bounce_rates</td>\n",
       "      <td>0</td>\n",
       "      <td>0.00</td>\n",
       "    </tr>\n",
       "    <tr>\n",
       "      <th>7</th>\n",
       "      <td>exit_rates</td>\n",
       "      <td>0</td>\n",
       "      <td>0.00</td>\n",
       "    </tr>\n",
       "    <tr>\n",
       "      <th>8</th>\n",
       "      <td>page_values</td>\n",
       "      <td>0</td>\n",
       "      <td>0.00</td>\n",
       "    </tr>\n",
       "    <tr>\n",
       "      <th>9</th>\n",
       "      <td>month</td>\n",
       "      <td>0</td>\n",
       "      <td>0.00</td>\n",
       "    </tr>\n",
       "    <tr>\n",
       "      <th>10</th>\n",
       "      <td>operating_systems</td>\n",
       "      <td>11</td>\n",
       "      <td>0.09</td>\n",
       "    </tr>\n",
       "    <tr>\n",
       "      <th>11</th>\n",
       "      <td>browser</td>\n",
       "      <td>0</td>\n",
       "      <td>0.00</td>\n",
       "    </tr>\n",
       "    <tr>\n",
       "      <th>12</th>\n",
       "      <td>region</td>\n",
       "      <td>0</td>\n",
       "      <td>0.00</td>\n",
       "    </tr>\n",
       "    <tr>\n",
       "      <th>13</th>\n",
       "      <td>traffic_type</td>\n",
       "      <td>0</td>\n",
       "      <td>0.00</td>\n",
       "    </tr>\n",
       "    <tr>\n",
       "      <th>14</th>\n",
       "      <td>visitor_type</td>\n",
       "      <td>0</td>\n",
       "      <td>0.00</td>\n",
       "    </tr>\n",
       "    <tr>\n",
       "      <th>15</th>\n",
       "      <td>weekend</td>\n",
       "      <td>0</td>\n",
       "      <td>0.00</td>\n",
       "    </tr>\n",
       "    <tr>\n",
       "      <th>16</th>\n",
       "      <td>revenue</td>\n",
       "      <td>0</td>\n",
       "      <td>0.00</td>\n",
       "    </tr>\n",
       "  </tbody>\n",
       "</table>\n",
       "</div>"
      ],
      "text/plain": [
       "                  ColumnName  CountNull  PercentageNull\n",
       "0             administrative        570            4.62\n",
       "1    administrative_duration        912            7.40\n",
       "2              informational          0            0.00\n",
       "3     informational_duration        336            2.73\n",
       "4            product_related        579            4.70\n",
       "5   product_related_duration        201            1.63\n",
       "6               bounce_rates          0            0.00\n",
       "7                 exit_rates          0            0.00\n",
       "8                page_values          0            0.00\n",
       "9                      month          0            0.00\n",
       "10         operating_systems         11            0.09\n",
       "11                   browser          0            0.00\n",
       "12                    region          0            0.00\n",
       "13              traffic_type          0            0.00\n",
       "14              visitor_type          0            0.00\n",
       "15                   weekend          0            0.00\n",
       "16                   revenue          0            0.00"
      ]
     },
     "metadata": {},
     "output_type": "display_data"
    },
    {
     "name": "stdout",
     "output_type": "stream",
     "text": [
      "Here are the unique values in 'informational':\n",
      "{0, 1, 2, 3, 4, 5, 6, 7, 8, 9, 10, 11, 12}\n",
      "\n",
      "\n",
      "Here are the unique values in 'administrative':\n",
      "{0, 1, 2, 3, 4, 5, 6, 7, 8, 9, 10, 11, 12, 13, 14, 15, 16, 17, 18, 19, 20, 21, 23, 24, <NA>}\n",
      "administrative\n",
      "0     5644\n",
      "1     1237\n",
      "2     1018\n",
      "3      885\n",
      "4      661\n",
      "5      541\n",
      "6      401\n",
      "7      314\n",
      "8      259\n",
      "9      227\n",
      "10     165\n",
      "11      97\n",
      "12      93\n",
      "13      65\n",
      "14      42\n",
      "15      37\n",
      "16      25\n",
      "17      15\n",
      "18      14\n",
      "21       5\n",
      "19       5\n",
      "23       4\n",
      "24       4\n",
      "20       2\n",
      "Name: count, dtype: Int64\n",
      "\n",
      "\n",
      "Here are the unique values in 'browser':\n",
      "{'Safari', 'Microsoft Edge', 'Sogou Explorer', 'Undetermined', 'Mozilla Firefox', 'UC Browser', 'Samsung Internet', 'Google Chrome', 'QQ', 'Yandex', 'Internet Explorer', 'Opera', 'Android'}\n",
      "\n",
      "\n",
      "Here are the unique values in 'product_related':\n",
      "{0, 1, 2, 3, 4, 5, 6, 7, 8, 9, 10, 11, 12, 13, 14, 15, 16, 17, 18, 19, 20, 21, 22, 23, 24, 25, 26, 27, 28, 29, 30, 31, 32, 33, 34, 35, 36, 37, 38, 39, 40, 41, 42, 43, 44, 45, 46, 47, 48, 49, 50, 51, 52, 53, 54, 55, 56, 57, 58, 59, 60, 61, 62, 63, 64, 65, 66, 67, 68, 69, 70, 71, 72, 73, 74, 75, 76, 77, 78, 79, 80, 81, 82, 83, 84, 85, 86, 87, 88, 89, 90, 91, 92, 93, 94, 95, 96, 97, 98, 99, 100, 101, 102, 103, 104, 105, 106, 107, 108, 109, 110, 111, 112, 113, 114, 115, 116, 117, 118, 119, 120, 121, 122, 123, 124, 125, 126, 127, 128, 129, 130, 131, 132, 133, 134, 135, 136, 137, 138, 139, 140, 141, 142, 143, 144, 145, 146, 147, 148, 149, 150, 151, 152, 153, 154, 155, 156, 157, 158, 159, 160, 161, 162, 164, 165, 166, 167, 168, 169, 170, 171, 172, 173, 174, 175, 176, 177, 178, 179, 180, 181, 182, 183, 184, 185, 186, 187, 188, 189, 191, 192, 193, 194, 195, 196, 197, 198, 199, 201, 202, 203, 204, 206, 207, 209, 210, 211, 212, 213, 214, 216, 217, 218, 220, 221, 222, 223, 225, 227, 228, 230, 231, 232, 233, 234, 235, 237, 238, 239, 240, 241, 242, 244, 245, 247, 249, 251, 252, 254, 255, 257, 258, 259, 260, 264, 265, 266, 267, 269, 270, 272, 274, 276, 278, 279, 282, 287, 291, 293, 300, 301, 303, 304, 305, 306, 307, 308, 310, 311, 317, 318, 319, 320, 326, 329, 330, 331, 332, 334, 336, 338, 350, 359, 362, 367, 368, 375, 377, 388, 405, 410, 436, 466, 472, 481, 485, <NA>}\n",
      "\n",
      "\n",
      "Here are the unique values in 'traffic_type':\n",
      "{'Direct Traffic', 'Facebook page', 'Newsletter', 'Other', 'Affiliate marketing', 'Google search', 'DuckDuckGo search', 'Yandex search', 'Instagram ads', 'Facebook ads', 'Instagram Page', 'Bing search', 'Tik Tok ads', 'Tik Tok page', 'Pinterest', 'Youtube channel', 'Youtube ads', 'Twitter', 'Yahoo Search'}\n"
     ]
    },
    {
     "data": {
      "text/plain": [
       "{'Affiliate marketing',\n",
       " 'Bing search',\n",
       " 'Direct Traffic',\n",
       " 'DuckDuckGo search',\n",
       " 'Facebook ads',\n",
       " 'Facebook page',\n",
       " 'Google search',\n",
       " 'Instagram Page',\n",
       " 'Instagram ads',\n",
       " 'Newsletter',\n",
       " 'Other',\n",
       " 'Pinterest',\n",
       " 'Tik Tok ads',\n",
       " 'Tik Tok page',\n",
       " 'Twitter',\n",
       " 'Yahoo Search',\n",
       " 'Yandex search',\n",
       " 'Youtube ads',\n",
       " 'Youtube channel'}"
      ]
     },
     "execution_count": 4,
     "metadata": {},
     "output_type": "execute_result"
    }
   ],
   "source": [
    "# print(f\"\\tNo. null:\\n\\n{df.isna().sum()}\\n\\n\\tPercent Null:\\n\\n{(df.isna().sum())/len(df)*100}\")\n",
    "\n",
    "nulldf = dfinfo(df).null()\n",
    "display(nulldf)\n",
    "\n",
    "dfinfo(df, 'informational').unique()\n",
    "#df.loc[nulldf['ColumnName']=='informational']\n",
    "print('\\n')\n",
    "dfinfo(df, 'administrative').unique()\n",
    "print(df['administrative'].value_counts())\n",
    "print('\\n')\n",
    "dfinfo(df, 'browser').unique()\n",
    "print('\\n')\n",
    "dfinfo(df, 'product_related').unique()\n",
    "print('\\n')\n",
    "dfinfo(df, 'traffic_type').unique()\n"
   ]
  },
  {
   "cell_type": "markdown",
   "metadata": {},
   "source": [
    "# Imputation Time"
   ]
  },
  {
   "cell_type": "code",
   "execution_count": null,
   "metadata": {},
   "outputs": [],
   "source": [
    "from db_utils import DataFrameTransform as dft\n",
    "\n",
    "%reload_ext autoreload\n",
    "%autoreload 2\n",
    "\n",
    "cols_to_impute_na = [\n",
    "    \"product_related_duration\",\n",
    "    \"informational_duration\",\n",
    "    \"administrative_duration\"\n",
    "]\n",
    "cols_to_drop_na = [\n",
    "    \"operating_systems\"\n",
    "]\n",
    "cols_to_mode_na = [\n",
    "    \"administrative\",\n",
    "    \"product_related\"\n",
    "]\n",
    "\n",
    "dft(df, cols_to_drop_na).drop_missing()\n",
    "dft(df, cols_to_impute_na).impute_missing()\n",
    "dft(df, cols_to_mode_na).impute_missing(strategy=\"mode\")\n",
    "\n",
    "dfinfo(df).null()"
   ]
  },
  {
   "cell_type": "markdown",
   "metadata": {},
   "source": [
    "# Skewness Reduction Transformations"
   ]
  },
  {
   "cell_type": "code",
   "execution_count": null,
   "metadata": {},
   "outputs": [],
   "source": [
    "from db_utils import Plotter\n",
    "\n",
    "df.skew(numeric_only=True)\n",
    "\n",
    "print(\"Original DataFrame:\")\n",
    "Plotter(df).numeric_distributions()\n",
    "\n",
    "# Apply log transformation\n",
    "log_transformed_df = dft(df).reduce_skewness(method='log')\n",
    "print(\"\\nLog-Transformed DataFrame:\")\n",
    "Plotter(log_transformed_df).numeric_distributions()\n",
    "\n",
    "# Apply PowerTransformer\n",
    "power_transformed_df = dft(df).reduce_skewness(method='power')\n",
    "print(\"\\nPower-Transformed DataFrame:\")\n",
    "Plotter(power_transformed_df).numeric_distributions()\n",
    "\n"
   ]
  },
  {
   "cell_type": "markdown",
   "metadata": {},
   "source": [
    "# Outlier Purge\n",
    "\n",
    "### Before:"
   ]
  },
  {
   "cell_type": "code",
   "execution_count": null,
   "metadata": {},
   "outputs": [],
   "source": [
    "cols_with_outliers = [\n",
    "    \"administrative_duration\",\n",
    "    \"informational_duration\",\n",
    "    \"product_related_duration\",\n",
    "    \"page_values\"\n",
    "]\n",
    "\n",
    "Plotter(df).numeric_distributions(columns=cols_with_outliers, plot_type='scatter', z_threshold=4.5)\n",
    "\n",
    "dfinfo(df, cols_with_outliers).count_outliers(z_treshold=4.5)"
   ]
  },
  {
   "cell_type": "markdown",
   "metadata": {},
   "source": [
    "### Perform removal, assign to new dataframe"
   ]
  },
  {
   "cell_type": "code",
   "execution_count": null,
   "metadata": {},
   "outputs": [],
   "source": [
    "df_sans_outliers = dft(df, columns=cols_with_outliers).drop_outliers(z_threshold=4.5)"
   ]
  },
  {
   "cell_type": "markdown",
   "metadata": {},
   "source": [
    "### After:"
   ]
  },
  {
   "cell_type": "code",
   "execution_count": null,
   "metadata": {},
   "outputs": [],
   "source": [
    "%reload_ext autoreload\n",
    "%autoreload 2\n",
    "\n",
    "Plotter(df_sans_outliers).numeric_distributions(columns=cols_with_outliers, plot_type='scatter', highlight_outliers=False)\n",
    "Plotter(df_sans_outliers).numeric_distributions(plot_type='hist')"
   ]
  },
  {
   "cell_type": "markdown",
   "metadata": {},
   "source": [
    "# Visualise Correlation Heatmap"
   ]
  },
  {
   "cell_type": "code",
   "execution_count": null,
   "metadata": {},
   "outputs": [],
   "source": [
    "%reload_ext autoreload\n",
    "%autoreload 2\n",
    "\n",
    "plot = Plotter(df_sans_outliers)\n",
    "plot.correlation_map()\n",
    "\n",
    "if \"bounce_rates\" in df_sans_outliers.columns:\n",
    "    df_sans_outliers = df_sans_outliers.drop(columns=\"bounce_rates\")\n",
    "\n",
    "plot = Plotter(df_sans_outliers)\n",
    "plot.correlation_map()\n"
   ]
  },
  {
   "cell_type": "markdown",
   "metadata": {},
   "source": [
    "# Missingness Correlation\n",
    "\n",
    "Plot whether missing values in one column correlate with missing values in other columns.\n",
    "\n",
    "*Spoiler alert: there doesn't seem to be correlation.*"
   ]
  },
  {
   "cell_type": "code",
   "execution_count": null,
   "metadata": {},
   "outputs": [],
   "source": [
    "import seaborn as sns\n",
    "import matplotlib.pyplot as plt\n",
    "\n",
    "def plot_null_correlation_heatmap(df):\n",
    "    \"\"\"\n",
    "    Creates a heatmap showing correlations between missingness indicators for columns.\n",
    "    Filters columns with no missing values and reorders them for better clarity.\n",
    "\n",
    "    Args:\n",
    "        df (pd.DataFrame): The dataframe to analyze.\n",
    "    \"\"\"\n",
    "    # Create a missingness indicator DataFrame\n",
    "    null_indicator = df.isnull()\n",
    "    \n",
    "    # Filter columns with at least some missing values\n",
    "    missing_cols = null_indicator.loc[:, null_indicator.any()].columns\n",
    "    \n",
    "    # Subset to columns with missing values\n",
    "    null_corr = null_indicator[missing_cols].corr()\n",
    "    \n",
    "    # Sort columns to cluster similar missingness patterns\n",
    "    sorted_columns = null_corr.sum().sort_values(ascending=False).index\n",
    "    null_corr = null_corr.loc[sorted_columns, sorted_columns]\n",
    "    \n",
    "    # Plot the heatmap\n",
    "    plt.figure(figsize=(12, 10))  # Adjust the figure size for readability\n",
    "    sns.heatmap(\n",
    "        null_corr,\n",
    "        cmap=\"coolwarm\",  # Use a visually intuitive color map\n",
    "        annot=True,       # Add annotations\n",
    "        fmt=\".2f\",        # Format annotations with 2 decimal points\n",
    "        linewidths=0.5,   # Add space between cells\n",
    "        cbar_kws={'label': 'Correlation'}\n",
    "    )\n",
    "    plt.title(\"Correlation of Missingness Between Columns\", fontsize=16, pad=20)\n",
    "    plt.xticks(rotation=45, ha='right', fontsize=10)  # Rotate x-axis labels for clarity\n",
    "    plt.yticks(fontsize=10)  # Adjust y-axis label font size\n",
    "    plt.tight_layout()\n",
    "    plt.show()\n",
    "\n",
    "plot_null_correlation_heatmap(df)\n"
   ]
  },
  {
   "cell_type": "markdown",
   "metadata": {},
   "source": [
    "# Browser per Region"
   ]
  },
  {
   "cell_type": "code",
   "execution_count": null,
   "metadata": {},
   "outputs": [],
   "source": [
    "import plotly.express as px\n",
    "\n",
    "fig = px.histogram(df, \"browser\", \n",
    "                   facet_col=\"operating_systems\", \n",
    "                   color=\"operating_systems\",\n",
    "                   title=\"Counts of browser per operating_systems\",\n",
    "                   labels={\"browser\": \"browser\"},\n",
    "                   height=1000, \n",
    "                   facet_col_wrap=2, \n",
    "                   facet_col_spacing=0.1,\n",
    "                   histnorm='probability'\n",
    "                   )\n",
    "fig.update_layout(showlegend=False, xaxis={'categoryorder':'total descending'})\n",
    "fig.update_yaxes(matches=None, showticklabels=True)\n",
    "# fig.update_xaxes(showticklabels=True)\n",
    "fig.show()"
   ]
  },
  {
   "cell_type": "markdown",
   "metadata": {},
   "source": [
    "# Chart Boilerplate Collection\n",
    "\n",
    "#### 1. Transparent Circle Scatter Plot"
   ]
  },
  {
   "cell_type": "code",
   "execution_count": null,
   "metadata": {},
   "outputs": [],
   "source": [
    "# This is copied straight from another db analysis.\n",
    "# TODO all variables and categories must be replaced with relevant ones.\n",
    "\n",
    "category_array = [\"I have never written code\", \"< 1 years\", \"1-2 years\", \"3-5 years\", \"5-10 years\", \"10-20 years\", \"20+ years\"]\n",
    "# fig = px.scatter(programming_experience_salary_df, \"Programming Experience\", \"Salary\", title=\"Density of Programming Experience vs Salary\")\n",
    "fig = px.scatter(programming_experience_salary_df, \"Programming Experience\", \"Salary\", facet_col=df[\"Q2\"],title=\"Density of Programming Experience vs Salary\")\n",
    "fig.update_traces(marker=dict(\n",
    "            opacity=0.05,\n",
    "            size=20,\n",
    "            line=dict(\n",
    "                color='MediumPurple',\n",
    "                width=0.5\n",
    "            )))\n",
    "fig.update_layout(xaxis={'categoryorder':'array', 'categoryarray':category_array})\n",
    "fig.show()"
   ]
  }
 ],
 "metadata": {
  "kernelspec": {
   "display_name": "base",
   "language": "python",
   "name": "python3"
  },
  "language_info": {
   "codemirror_mode": {
    "name": "ipython",
    "version": 3
   },
   "file_extension": ".py",
   "mimetype": "text/x-python",
   "name": "python",
   "nbconvert_exporter": "python",
   "pygments_lexer": "ipython3",
   "version": "3.12.2"
  }
 },
 "nbformat": 4,
 "nbformat_minor": 2
}
